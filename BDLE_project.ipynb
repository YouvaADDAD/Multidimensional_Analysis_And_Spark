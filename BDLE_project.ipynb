{
 "cells": [
  {
   "cell_type": "markdown",
   "id": "649cf213",
   "metadata": {},
   "source": [
    "# Préparation \n",
    "En local, télécharger le fichier spark-apach https://spark.apache.org/downloads.html.<br>\n",
    "Rajouter export PYSPARK_DRIVER_PYTHON=jupyter & export PYSPARK_DRIVER_PYTHON_OPTS='notebook' <br>\n",
    "Dans spark/bin lancer ./pyspark depuis le terminal"
   ]
  },
  {
   "cell_type": "code",
   "execution_count": 1,
   "id": "21e30cc3",
   "metadata": {},
   "outputs": [
    {
     "name": "stdout",
     "output_type": "stream",
     "text": [
      "session démarrée, son id est  local-1636194557636\n"
     ]
    }
   ],
   "source": [
    "# Principaux import\n",
    "import pyspark\n",
    "import findspark\n",
    "from pyspark.sql import SparkSession \n",
    "from pyspark import SparkConf \n",
    "from pyspark.ml.classification import *\n",
    "from pyspark.ml.feature import *\n",
    "from pyspark.ml.tuning import CrossValidator, ParamGridBuilder\n",
    "from pyspark.ml import Pipeline\n",
    "import pandas as pd\n",
    "import numpy as np\n",
    "import matplotlib.pyplot as plt\n",
    "import seaborn as sns\n",
    "# pour les dataframe et udf\n",
    "from pyspark.sql import *  \n",
    "from pyspark.sql.functions import *\n",
    "from pyspark.sql.types import *\n",
    "from pyspark.ml.evaluation import *\n",
    "\n",
    "from datetime import *\n",
    "\n",
    "# pour le chronomètre\n",
    "import time\n",
    "\n",
    "# initialise les variables d'environnement pour spark\n",
    "findspark.init()\n",
    "\n",
    "# Démarrage session spark \n",
    "# --------------------------\n",
    "def demarrer_spark():\n",
    "    local = \"local[*]\"\n",
    "    appName = \"Project BDLE\"\n",
    "    configLocale = SparkConf().setAppName(appName).setMaster(local).\\\n",
    "    set(\"spark.executor.memory\", \"6G\").\\\n",
    "    set(\"spark.driver.memory\",\"6G\").\\\n",
    "    set(\"spark.sql.catalogImplementation\",\"in-memory\")\n",
    "  \n",
    "    spark = SparkSession.builder.config(conf = configLocale).getOrCreate()\n",
    "    sc = spark.sparkContext\n",
    "    sc.setLogLevel(\"ERROR\")\n",
    "  \n",
    "    spark.conf.set(\"spark.sql.autoBroadcastJoinThreshold\",\"-1\")\n",
    "\n",
    "  # On ajuste l'environnement d'exécution des requêtes à la taille du cluster (4 coeurs)\n",
    "    spark.conf.set(\"spark.sql.shuffle.partitions\",\"4\")    \n",
    "    print(\"session démarrée, son id est \", sc.applicationId)\n",
    "    return spark\n",
    "spark = demarrer_spark()"
   ]
  },
  {
   "cell_type": "code",
   "execution_count": 2,
   "id": "f3e6b63e",
   "metadata": {
    "scrolled": false
   },
   "outputs": [
    {
     "name": "stdout",
     "output_type": "stream",
     "text": [
      "Nombre de partitions utilisées :  8\n"
     ]
    }
   ],
   "source": [
    "# on utilise 8 partitions au lieu de 200 par défaut\n",
    "spark.conf.set(\"spark.sql.shuffle.partitions\", \"8\")\n",
    "print(\"Nombre de partitions utilisées : \", spark.conf.get(\"spark.sql.shuffle.partitions\"))"
   ]
  },
  {
   "cell_type": "markdown",
   "id": "7edfe880",
   "metadata": {},
   "source": [
    "# Lecture et Pré-traitement\n",
    "### Adult Census Income \n",
    "Ces données ont été extraites de la base de données du bureau du recensement de 1994 par Ronny Kohavi et Barry Becker (Data Mining and Visualization, Silicon Graphics). La tâche de prédiction consiste à déterminer si une personne gagne plus de 50 000 $ par an.\n",
    "\n",
    "À noter que ces données en question sont déséquilibré, ils existent plus de personnes gagnant moins de 50K\\\\$ l'année que plus de 50K\\\\$"
   ]
  },
  {
   "cell_type": "code",
   "execution_count": 3,
   "id": "2447ae3a",
   "metadata": {
    "scrolled": true
   },
   "outputs": [],
   "source": [
    "Schema = StructType([\n",
    "  StructField(\"age\", IntegerType()),\n",
    "  StructField(\"workClass\", StringType()),\n",
    "  StructField(\"fnlwgt\", IntegerType()),\n",
    "  StructField(\"education\", StringType()),\n",
    "  StructField(\"education-num\", IntegerType()),\n",
    "  StructField(\"marital-status\", StringType()),\n",
    "  StructField(\"occupation\", StringType()),\n",
    "  StructField(\"relationship\", StringType()),\n",
    "  StructField(\"race\", StringType()),\n",
    "  StructField(\"sex\", StringType()),\n",
    "  StructField(\"capital-gain\", IntegerType()),\n",
    "  StructField(\"capital-loss\", IntegerType()),\n",
    "  StructField(\"hours-per-week\", IntegerType()),\n",
    "  StructField(\"native-country\", StringType()),\n",
    "  StructField(\"income\", StringType())\n",
    "])\n",
    "\n",
    "\n",
    "\n",
    "df1=pd.read_csv('/Users/addadyouva/Downloads/BDLE/Adult_data/adult.data',header=None,na_values=' ?')\n",
    "df2=pd.read_csv('/Users/addadyouva/Downloads/BDLE/Adult_data/adult.test',header=None,na_values=' ?')\n",
    "df_concat=pd.DataFrame(pd.concat([df1,df2],ignore_index=True))\n",
    "#df_concat.replace(' ?', np.NaN,inplace=True)\n",
    "#df_concat.replace(' ?', None,inplace=True)\n",
    "df_concat[14]=df_concat[14].apply(lambda x: x.replace('.',''))"
   ]
  },
  {
   "cell_type": "markdown",
   "id": "b4001642",
   "metadata": {},
   "source": [
    "# taux de valeurs manquantes"
   ]
  },
  {
   "cell_type": "code",
   "execution_count": null,
   "id": "51c07c6e",
   "metadata": {},
   "outputs": [],
   "source": [
    "1-len(df_concat.dropna())/len(df_concat)"
   ]
  },
  {
   "cell_type": "markdown",
   "id": "436e6607",
   "metadata": {},
   "source": [
    "Comme le taux de valeur manquante est négligeable, nous pouvons directement supprimer ces valeurs"
   ]
  },
  {
   "cell_type": "code",
   "execution_count": 4,
   "id": "61e4a4c3",
   "metadata": {},
   "outputs": [
    {
     "name": "stdout",
     "output_type": "stream",
     "text": [
      "root\n",
      " |-- age: integer (nullable = true)\n",
      " |-- workClass: string (nullable = true)\n",
      " |-- fnlwgt: integer (nullable = true)\n",
      " |-- education: string (nullable = true)\n",
      " |-- education-num: integer (nullable = true)\n",
      " |-- marital-status: string (nullable = true)\n",
      " |-- occupation: string (nullable = true)\n",
      " |-- relationship: string (nullable = true)\n",
      " |-- race: string (nullable = true)\n",
      " |-- sex: string (nullable = true)\n",
      " |-- capital-gain: integer (nullable = true)\n",
      " |-- capital-loss: integer (nullable = true)\n",
      " |-- hours-per-week: integer (nullable = true)\n",
      " |-- native-country: string (nullable = true)\n",
      " |-- income: string (nullable = true)\n",
      "\n"
     ]
    },
    {
     "data": {
      "text/html": [
       "<div>\n",
       "<style scoped>\n",
       "    .dataframe tbody tr th:only-of-type {\n",
       "        vertical-align: middle;\n",
       "    }\n",
       "\n",
       "    .dataframe tbody tr th {\n",
       "        vertical-align: top;\n",
       "    }\n",
       "\n",
       "    .dataframe thead th {\n",
       "        text-align: right;\n",
       "    }\n",
       "</style>\n",
       "<table border=\"1\" class=\"dataframe\">\n",
       "  <thead>\n",
       "    <tr style=\"text-align: right;\">\n",
       "      <th></th>\n",
       "      <th>age</th>\n",
       "      <th>workClass</th>\n",
       "      <th>fnlwgt</th>\n",
       "      <th>education</th>\n",
       "      <th>education-num</th>\n",
       "      <th>marital-status</th>\n",
       "      <th>occupation</th>\n",
       "      <th>relationship</th>\n",
       "      <th>race</th>\n",
       "      <th>sex</th>\n",
       "      <th>capital-gain</th>\n",
       "      <th>capital-loss</th>\n",
       "      <th>hours-per-week</th>\n",
       "      <th>native-country</th>\n",
       "      <th>income</th>\n",
       "    </tr>\n",
       "  </thead>\n",
       "  <tbody>\n",
       "    <tr>\n",
       "      <th>0</th>\n",
       "      <td>39</td>\n",
       "      <td>State-gov</td>\n",
       "      <td>77516</td>\n",
       "      <td>Bachelors</td>\n",
       "      <td>13</td>\n",
       "      <td>Never-married</td>\n",
       "      <td>Adm-clerical</td>\n",
       "      <td>Not-in-family</td>\n",
       "      <td>White</td>\n",
       "      <td>Male</td>\n",
       "      <td>2174</td>\n",
       "      <td>0</td>\n",
       "      <td>40</td>\n",
       "      <td>United-States</td>\n",
       "      <td>&lt;=50K</td>\n",
       "    </tr>\n",
       "    <tr>\n",
       "      <th>1</th>\n",
       "      <td>50</td>\n",
       "      <td>Self-emp-not-inc</td>\n",
       "      <td>83311</td>\n",
       "      <td>Bachelors</td>\n",
       "      <td>13</td>\n",
       "      <td>Married-civ-spouse</td>\n",
       "      <td>Exec-managerial</td>\n",
       "      <td>Husband</td>\n",
       "      <td>White</td>\n",
       "      <td>Male</td>\n",
       "      <td>0</td>\n",
       "      <td>0</td>\n",
       "      <td>13</td>\n",
       "      <td>United-States</td>\n",
       "      <td>&lt;=50K</td>\n",
       "    </tr>\n",
       "    <tr>\n",
       "      <th>2</th>\n",
       "      <td>38</td>\n",
       "      <td>Private</td>\n",
       "      <td>215646</td>\n",
       "      <td>HS-grad</td>\n",
       "      <td>9</td>\n",
       "      <td>Divorced</td>\n",
       "      <td>Handlers-cleaners</td>\n",
       "      <td>Not-in-family</td>\n",
       "      <td>White</td>\n",
       "      <td>Male</td>\n",
       "      <td>0</td>\n",
       "      <td>0</td>\n",
       "      <td>40</td>\n",
       "      <td>United-States</td>\n",
       "      <td>&lt;=50K</td>\n",
       "    </tr>\n",
       "    <tr>\n",
       "      <th>3</th>\n",
       "      <td>53</td>\n",
       "      <td>Private</td>\n",
       "      <td>234721</td>\n",
       "      <td>11th</td>\n",
       "      <td>7</td>\n",
       "      <td>Married-civ-spouse</td>\n",
       "      <td>Handlers-cleaners</td>\n",
       "      <td>Husband</td>\n",
       "      <td>Black</td>\n",
       "      <td>Male</td>\n",
       "      <td>0</td>\n",
       "      <td>0</td>\n",
       "      <td>40</td>\n",
       "      <td>United-States</td>\n",
       "      <td>&lt;=50K</td>\n",
       "    </tr>\n",
       "    <tr>\n",
       "      <th>4</th>\n",
       "      <td>28</td>\n",
       "      <td>Private</td>\n",
       "      <td>338409</td>\n",
       "      <td>Bachelors</td>\n",
       "      <td>13</td>\n",
       "      <td>Married-civ-spouse</td>\n",
       "      <td>Prof-specialty</td>\n",
       "      <td>Wife</td>\n",
       "      <td>Black</td>\n",
       "      <td>Female</td>\n",
       "      <td>0</td>\n",
       "      <td>0</td>\n",
       "      <td>40</td>\n",
       "      <td>Cuba</td>\n",
       "      <td>&lt;=50K</td>\n",
       "    </tr>\n",
       "    <tr>\n",
       "      <th>...</th>\n",
       "      <td>...</td>\n",
       "      <td>...</td>\n",
       "      <td>...</td>\n",
       "      <td>...</td>\n",
       "      <td>...</td>\n",
       "      <td>...</td>\n",
       "      <td>...</td>\n",
       "      <td>...</td>\n",
       "      <td>...</td>\n",
       "      <td>...</td>\n",
       "      <td>...</td>\n",
       "      <td>...</td>\n",
       "      <td>...</td>\n",
       "      <td>...</td>\n",
       "      <td>...</td>\n",
       "    </tr>\n",
       "    <tr>\n",
       "      <th>45217</th>\n",
       "      <td>33</td>\n",
       "      <td>Private</td>\n",
       "      <td>245211</td>\n",
       "      <td>Bachelors</td>\n",
       "      <td>13</td>\n",
       "      <td>Never-married</td>\n",
       "      <td>Prof-specialty</td>\n",
       "      <td>Own-child</td>\n",
       "      <td>White</td>\n",
       "      <td>Male</td>\n",
       "      <td>0</td>\n",
       "      <td>0</td>\n",
       "      <td>40</td>\n",
       "      <td>United-States</td>\n",
       "      <td>&lt;=50K</td>\n",
       "    </tr>\n",
       "    <tr>\n",
       "      <th>45218</th>\n",
       "      <td>39</td>\n",
       "      <td>Private</td>\n",
       "      <td>215419</td>\n",
       "      <td>Bachelors</td>\n",
       "      <td>13</td>\n",
       "      <td>Divorced</td>\n",
       "      <td>Prof-specialty</td>\n",
       "      <td>Not-in-family</td>\n",
       "      <td>White</td>\n",
       "      <td>Female</td>\n",
       "      <td>0</td>\n",
       "      <td>0</td>\n",
       "      <td>36</td>\n",
       "      <td>United-States</td>\n",
       "      <td>&lt;=50K</td>\n",
       "    </tr>\n",
       "    <tr>\n",
       "      <th>45219</th>\n",
       "      <td>38</td>\n",
       "      <td>Private</td>\n",
       "      <td>374983</td>\n",
       "      <td>Bachelors</td>\n",
       "      <td>13</td>\n",
       "      <td>Married-civ-spouse</td>\n",
       "      <td>Prof-specialty</td>\n",
       "      <td>Husband</td>\n",
       "      <td>White</td>\n",
       "      <td>Male</td>\n",
       "      <td>0</td>\n",
       "      <td>0</td>\n",
       "      <td>50</td>\n",
       "      <td>United-States</td>\n",
       "      <td>&lt;=50K</td>\n",
       "    </tr>\n",
       "    <tr>\n",
       "      <th>45220</th>\n",
       "      <td>44</td>\n",
       "      <td>Private</td>\n",
       "      <td>83891</td>\n",
       "      <td>Bachelors</td>\n",
       "      <td>13</td>\n",
       "      <td>Divorced</td>\n",
       "      <td>Adm-clerical</td>\n",
       "      <td>Own-child</td>\n",
       "      <td>Asian-Pac-Islander</td>\n",
       "      <td>Male</td>\n",
       "      <td>5455</td>\n",
       "      <td>0</td>\n",
       "      <td>40</td>\n",
       "      <td>United-States</td>\n",
       "      <td>&lt;=50K</td>\n",
       "    </tr>\n",
       "    <tr>\n",
       "      <th>45221</th>\n",
       "      <td>35</td>\n",
       "      <td>Self-emp-inc</td>\n",
       "      <td>182148</td>\n",
       "      <td>Bachelors</td>\n",
       "      <td>13</td>\n",
       "      <td>Married-civ-spouse</td>\n",
       "      <td>Exec-managerial</td>\n",
       "      <td>Husband</td>\n",
       "      <td>White</td>\n",
       "      <td>Male</td>\n",
       "      <td>0</td>\n",
       "      <td>0</td>\n",
       "      <td>60</td>\n",
       "      <td>United-States</td>\n",
       "      <td>&gt;50K</td>\n",
       "    </tr>\n",
       "  </tbody>\n",
       "</table>\n",
       "<p>45222 rows × 15 columns</p>\n",
       "</div>"
      ],
      "text/plain": [
       "       age          workClass  fnlwgt   education  education-num  \\\n",
       "0       39          State-gov   77516   Bachelors             13   \n",
       "1       50   Self-emp-not-inc   83311   Bachelors             13   \n",
       "2       38            Private  215646     HS-grad              9   \n",
       "3       53            Private  234721        11th              7   \n",
       "4       28            Private  338409   Bachelors             13   \n",
       "...    ...                ...     ...         ...            ...   \n",
       "45217   33            Private  245211   Bachelors             13   \n",
       "45218   39            Private  215419   Bachelors             13   \n",
       "45219   38            Private  374983   Bachelors             13   \n",
       "45220   44            Private   83891   Bachelors             13   \n",
       "45221   35       Self-emp-inc  182148   Bachelors             13   \n",
       "\n",
       "            marital-status          occupation    relationship  \\\n",
       "0            Never-married        Adm-clerical   Not-in-family   \n",
       "1       Married-civ-spouse     Exec-managerial         Husband   \n",
       "2                 Divorced   Handlers-cleaners   Not-in-family   \n",
       "3       Married-civ-spouse   Handlers-cleaners         Husband   \n",
       "4       Married-civ-spouse      Prof-specialty            Wife   \n",
       "...                    ...                 ...             ...   \n",
       "45217        Never-married      Prof-specialty       Own-child   \n",
       "45218             Divorced      Prof-specialty   Not-in-family   \n",
       "45219   Married-civ-spouse      Prof-specialty         Husband   \n",
       "45220             Divorced        Adm-clerical       Own-child   \n",
       "45221   Married-civ-spouse     Exec-managerial         Husband   \n",
       "\n",
       "                      race      sex  capital-gain  capital-loss  \\\n",
       "0                    White     Male          2174             0   \n",
       "1                    White     Male             0             0   \n",
       "2                    White     Male             0             0   \n",
       "3                    Black     Male             0             0   \n",
       "4                    Black   Female             0             0   \n",
       "...                    ...      ...           ...           ...   \n",
       "45217                White     Male             0             0   \n",
       "45218                White   Female             0             0   \n",
       "45219                White     Male             0             0   \n",
       "45220   Asian-Pac-Islander     Male          5455             0   \n",
       "45221                White     Male             0             0   \n",
       "\n",
       "       hours-per-week  native-country  income  \n",
       "0                  40   United-States   <=50K  \n",
       "1                  13   United-States   <=50K  \n",
       "2                  40   United-States   <=50K  \n",
       "3                  40   United-States   <=50K  \n",
       "4                  40            Cuba   <=50K  \n",
       "...               ...             ...     ...  \n",
       "45217              40   United-States   <=50K  \n",
       "45218              36   United-States   <=50K  \n",
       "45219              50   United-States   <=50K  \n",
       "45220              40   United-States   <=50K  \n",
       "45221              60   United-States    >50K  \n",
       "\n",
       "[45222 rows x 15 columns]"
      ]
     },
     "execution_count": 4,
     "metadata": {},
     "output_type": "execute_result"
    }
   ],
   "source": [
    "df_concat=df_concat.dropna()\n",
    "AdultCensusIncome=spark.createDataFrame(df_concat,schema=Schema)\n",
    "AdultCensusIncome.printSchema()\n",
    "AdultCensusIncome.toPandas()"
   ]
  },
  {
   "cell_type": "markdown",
   "id": "a43fd6f0",
   "metadata": {},
   "source": [
    "On peut donc remarquer ici le déséquilibre des classes, ou il y a plus de personne gagnant moins de 50K$ l'année, ce qui complique la tache de classification parce que, l'algorithme de supervision va majoritairement prédire qu'une personne gagne moins de 50K\\\\$ que plus. "
   ]
  },
  {
   "cell_type": "code",
   "execution_count": null,
   "id": "c0ff96ae",
   "metadata": {
    "scrolled": true
   },
   "outputs": [],
   "source": [
    "AdultCensusIncome.groupBy(col('income')).agg(count('*').alias('Target')).show()"
   ]
  },
  {
   "cell_type": "markdown",
   "id": "3182555f",
   "metadata": {},
   "source": [
    "# statistiques descriptive  des données"
   ]
  },
  {
   "cell_type": "code",
   "execution_count": null,
   "id": "50a9de1a",
   "metadata": {},
   "outputs": [],
   "source": [
    "df=AdultCensusIncome.toPandas()"
   ]
  },
  {
   "cell_type": "code",
   "execution_count": null,
   "id": "90e7744b",
   "metadata": {
    "scrolled": false
   },
   "outputs": [],
   "source": [
    "df.describe()"
   ]
  },
  {
   "cell_type": "code",
   "execution_count": null,
   "id": "e158dcfa",
   "metadata": {
    "scrolled": false
   },
   "outputs": [],
   "source": [
    "df.hist(figsize=(20,20))"
   ]
  },
  {
   "cell_type": "markdown",
   "id": "d3cfda98",
   "metadata": {},
   "source": [
    "# Salaire par rapport a la classe de travail."
   ]
  },
  {
   "cell_type": "code",
   "execution_count": null,
   "id": "016c1a84",
   "metadata": {
    "scrolled": false
   },
   "outputs": [],
   "source": [
    "plt.figure(figsize=(10,5))\n",
    "sns.countplot(x='workClass', hue='income', data=df)\n",
    "plt.tight_layout()\n",
    "plt.show()"
   ]
  },
  {
   "cell_type": "markdown",
   "id": "2412ead4",
   "metadata": {},
   "source": [
    "# Salaire par rapport aux type de diplome"
   ]
  },
  {
   "cell_type": "code",
   "execution_count": null,
   "id": "0891155b",
   "metadata": {
    "scrolled": false
   },
   "outputs": [],
   "source": [
    "plt.figure(figsize=(20,10))\n",
    "sns.countplot(x='education', hue='income', data=df)\n",
    "plt.tight_layout()\n",
    "plt.show()"
   ]
  },
  {
   "cell_type": "markdown",
   "id": "60f3adcc",
   "metadata": {},
   "source": [
    "# Salaire par heur de travaille par semaine"
   ]
  },
  {
   "cell_type": "code",
   "execution_count": null,
   "id": "c1796216",
   "metadata": {},
   "outputs": [],
   "source": [
    "plt.figure(figsize=(10,5))\n",
    "sns.violinplot(x='income',y='hours-per-week',hue='income',data=df)"
   ]
  },
  {
   "cell_type": "markdown",
   "id": "bb4f46eb",
   "metadata": {},
   "source": [
    "# Salaire par rapport au sexe"
   ]
  },
  {
   "cell_type": "code",
   "execution_count": null,
   "id": "63a8f1e4",
   "metadata": {},
   "outputs": [],
   "source": [
    "plt.figure(figsize=(10,5))\n",
    "sns.countplot(x='sex', hue='income', data=df)\n",
    "plt.tight_layout()\n",
    "plt.show()"
   ]
  },
  {
   "cell_type": "markdown",
   "id": "dcb9a200",
   "metadata": {},
   "source": [
    "# Salaire par rapport a l'occupation"
   ]
  },
  {
   "cell_type": "code",
   "execution_count": null,
   "id": "643c6620",
   "metadata": {},
   "outputs": [],
   "source": [
    "plt.figure(figsize=(20,10))\n",
    "sns.countplot(x='occupation', hue='income', data=df)\n",
    "plt.tight_layout()\n",
    "plt.show()"
   ]
  },
  {
   "cell_type": "markdown",
   "id": "19adf27a",
   "metadata": {},
   "source": [
    "# Salaire par rapport a la race"
   ]
  },
  {
   "cell_type": "code",
   "execution_count": null,
   "id": "50248cb9",
   "metadata": {},
   "outputs": [],
   "source": [
    "plt.figure(figsize=(20,10))\n",
    "sns.countplot(x='race', hue='income', data=df)\n",
    "plt.tight_layout()\n",
    "plt.show()"
   ]
  },
  {
   "cell_type": "markdown",
   "id": "5c329a54",
   "metadata": {},
   "source": [
    "# Salaire par rapport a l'age"
   ]
  },
  {
   "cell_type": "code",
   "execution_count": null,
   "id": "2343f672",
   "metadata": {
    "scrolled": true
   },
   "outputs": [],
   "source": [
    "plt.figure(figsize=(10,5))\n",
    "sns.violinplot(x='income',y='age',hue='income',data=df)"
   ]
  },
  {
   "cell_type": "markdown",
   "id": "84d442b6",
   "metadata": {},
   "source": [
    "# Transformation des données"
   ]
  },
  {
   "cell_type": "code",
   "execution_count": null,
   "id": "4f9dabe5",
   "metadata": {},
   "outputs": [],
   "source": [
    "categorical_columns=[col_name for col_name,type_name in AdultCensusIncome.dtypes if type_name!= 'int' and col_name!='income']\n",
    "numerical_columns=[col_name for col_name,type_name in AdultCensusIncome.dtypes if type_name=='int']\n",
    "categorical_columns_indexed=[c+'_indexed' for c in categorical_columns ]"
   ]
  },
  {
   "cell_type": "code",
   "execution_count": null,
   "id": "b3499ccf",
   "metadata": {},
   "outputs": [],
   "source": [
    "stringIndexerIncome=StringIndexer(inputCol='income',outputCol='income_indexed')\n",
    "stringIndexer=StringIndexer(inputCols=categorical_columns,outputCols=categorical_columns_indexed)\n",
    "oneHotIndexer=OneHotEncoder(inputCols=categorical_columns_indexed,outputCols=[c+'_encoded' for c in categorical_columns_indexed])\n",
    "vectAssemble=VectorAssembler(inputCols=numerical_columns+oneHotIndexer.getOutputCols(),outputCol='features')"
   ]
  },
  {
   "cell_type": "markdown",
   "id": "8c2f74c8",
   "metadata": {},
   "source": [
    "# Learn First Model"
   ]
  },
  {
   "cell_type": "markdown",
   "id": "70ccf6e4",
   "metadata": {},
   "source": [
    "# Logistic Regression"
   ]
  },
  {
   "cell_type": "code",
   "execution_count": null,
   "id": "224dc2c3",
   "metadata": {},
   "outputs": [],
   "source": [
    "(trainingData, testData) = AdultCensusIncome.randomSplit([0.7, 0.3])\n",
    "lr = LogisticRegression(featuresCol='features', labelCol=\"income_indexed\")\n",
    "piple=Pipeline(stages=[stringIndexerIncome,stringIndexer,oneHotIndexer,vectAssemble,lr])\n",
    "model = piple.fit(trainingData)\n",
    "predictions = model.transform(testData)"
   ]
  },
  {
   "cell_type": "code",
   "execution_count": null,
   "id": "ebfed394",
   "metadata": {},
   "outputs": [],
   "source": [
    "evaluator=BinaryClassificationEvaluator(labelCol='income_indexed')\n",
    "print(evaluator.evaluate(predictions))"
   ]
  },
  {
   "cell_type": "code",
   "execution_count": null,
   "id": "6fbdc06b",
   "metadata": {},
   "outputs": [],
   "source": [
    "tp = float(predictions.filter(\"prediction == 1.0 AND income_indexed == 1.0\").count())\n",
    "fp = float(predictions.filter(\"prediction == 1.0 AND income_indexed == 0.0\").count())\n",
    "tn = float(predictions.filter(\"prediction == 0.0 AND income_indexed == 0.0\").count())\n",
    "fn = float(predictions.filter(\"prediction == 0.0 AND income_indexed == 1.0\").count())\n",
    "Accuracy=(tp+tn)/(tp+fp+tn+fn)\n",
    "Precision= tp / (tp + fp)\n",
    "Recall=tp / (tp + fn)\n",
    "fmesure=2 * (Precision * Recall) / (Precision + Recall)\n",
    "\n",
    "metrics = spark.createDataFrame([\n",
    " (\"TP\", tp),\n",
    " (\"FP\", fp),\n",
    " (\"TN\", tn),\n",
    " (\"FN\", fn),\n",
    " (\"Accuracy\",Accuracy),\n",
    " (\"Precision\", Precision),\n",
    " (\"Recall\", Recall), \n",
    " (\"f-mesure\",fmesure)],[\"metric\", \"value\"])\n",
    "metrics.show()"
   ]
  },
  {
   "cell_type": "markdown",
   "id": "e5d45bf5",
   "metadata": {},
   "source": [
    "# Random Forrest"
   ]
  },
  {
   "cell_type": "code",
   "execution_count": null,
   "id": "78a9ec45",
   "metadata": {},
   "outputs": [],
   "source": [
    "(trainingData, testData) = AdultCensusIncome.randomSplit([0.7, 0.3])\n",
    "rf = RandomForestClassifier(featuresCol=\"features\", labelCol=\"income_indexed\")\n",
    "piple=Pipeline(stages=[stringIndexerIncome,stringIndexer,oneHotIndexer,vectAssemble,rf])\n",
    "model = piple.fit(trainingData)\n",
    "predictions = model.transform(testData)"
   ]
  },
  {
   "cell_type": "code",
   "execution_count": null,
   "id": "91af72e5",
   "metadata": {},
   "outputs": [],
   "source": [
    "evaluator=BinaryClassificationEvaluator(labelCol='income_indexed')\n",
    "print(evaluator.evaluate(predictions))"
   ]
  },
  {
   "cell_type": "code",
   "execution_count": null,
   "id": "b3bab5f5",
   "metadata": {
    "scrolled": true
   },
   "outputs": [],
   "source": [
    "tp = float(predictions.filter(\"prediction == 1.0 AND income_indexed == 1.0\").count())\n",
    "fp = float(predictions.filter(\"prediction == 1.0 AND income_indexed == 0.0\").count())\n",
    "tn = float(predictions.filter(\"prediction == 0.0 AND income_indexed == 0.0\").count())\n",
    "fn = float(predictions.filter(\"prediction == 0.0 AND income_indexed == 1.0\").count())\n",
    "Accuracy=(tp+tn)/(tp+fp+tn+fn)\n",
    "Precision= tp / (tp + fp)\n",
    "Recall=tp / (tp + fn)\n",
    "fmesure=2 * (Precision * Recall) / (Precision + Recall)\n",
    "\n",
    "metrics = spark.createDataFrame([\n",
    " (\"TP\", tp),\n",
    " (\"FP\", fp),\n",
    " (\"TN\", tn),\n",
    " (\"FN\", fn),\n",
    " (\"Accuracy\",Accuracy),\n",
    " (\"Precision\", Precision),\n",
    " (\"Recall\", Recall), \n",
    " (\"f-mesure\",fmesure)],[\"metric\", \"value\"])\n",
    "metrics.show()"
   ]
  },
  {
   "cell_type": "markdown",
   "id": "87a69c1d",
   "metadata": {},
   "source": [
    "# Linear SVM"
   ]
  },
  {
   "cell_type": "code",
   "execution_count": null,
   "id": "dc5f697e",
   "metadata": {},
   "outputs": [],
   "source": [
    "(trainingData, testData) = AdultCensusIncome.randomSplit([0.7, 0.3])\n",
    "ls= LinearSVC(featuresCol=\"features\", labelCol=\"income_indexed\")\n",
    "piple=Pipeline(stages=[stringIndexerIncome,stringIndexer,oneHotIndexer,vectAssemble,ls])\n",
    "model = piple.fit(trainingData)\n",
    "predictions = model.transform(testData)"
   ]
  },
  {
   "cell_type": "code",
   "execution_count": null,
   "id": "f11c3b4b",
   "metadata": {},
   "outputs": [],
   "source": [
    "evaluator=BinaryClassificationEvaluator(labelCol='income_indexed')\n",
    "print(evaluator.evaluate(predictions))"
   ]
  },
  {
   "cell_type": "code",
   "execution_count": null,
   "id": "f570b131",
   "metadata": {
    "scrolled": true
   },
   "outputs": [],
   "source": [
    "tp = float(predictions.filter(\"prediction == 1.0 AND income_indexed == 1.0\").count())\n",
    "fp = float(predictions.filter(\"prediction == 1.0 AND income_indexed == 0.0\").count())\n",
    "tn = float(predictions.filter(\"prediction == 0.0 AND income_indexed == 0.0\").count())\n",
    "fn = float(predictions.filter(\"prediction == 0.0 AND income_indexed == 1.0\").count())\n",
    "Accuracy=(tp+tn)/(tp+fp+tn+fn)\n",
    "Precision= tp / (tp + fp)\n",
    "Recall=tp / (tp + fn)\n",
    "fmesure=2 * (Precision * Recall) / (Precision + Recall)\n",
    "\n",
    "metrics = spark.createDataFrame([\n",
    " (\"TP\", tp),\n",
    " (\"FP\", fp),\n",
    " (\"TN\", tn),\n",
    " (\"FN\", fn),\n",
    " (\"Accuracy\",Accuracy),\n",
    " (\"Precision\", Precision),\n",
    " (\"Recall\", Recall), \n",
    " (\"f-mesure\",fmesure)],[\"metric\", \"value\"])\n",
    "metrics.show()"
   ]
  },
  {
   "cell_type": "markdown",
   "id": "450cb1de",
   "metadata": {},
   "source": [
    "# GBTClassifier"
   ]
  },
  {
   "cell_type": "code",
   "execution_count": null,
   "id": "366f472a",
   "metadata": {},
   "outputs": [],
   "source": [
    "(trainingData, testData) = AdultCensusIncome.randomSplit([0.7, 0.3])\n",
    "gbt= GBTClassifier(featuresCol=\"features\", labelCol=\"income_indexed\")\n",
    "piple=Pipeline(stages=[stringIndexerIncome,stringIndexer,oneHotIndexer,vectAssemble,gbt])\n",
    "model = piple.fit(trainingData)\n",
    "predictions = model.transform(testData)"
   ]
  },
  {
   "cell_type": "code",
   "execution_count": null,
   "id": "fb813c74",
   "metadata": {},
   "outputs": [],
   "source": [
    "predictions.select('features').show()"
   ]
  },
  {
   "cell_type": "code",
   "execution_count": null,
   "id": "7cf1e773",
   "metadata": {},
   "outputs": [],
   "source": [
    "evaluator=BinaryClassificationEvaluator(labelCol='income_indexed')\n",
    "print(evaluator.evaluate(predictions))"
   ]
  },
  {
   "cell_type": "code",
   "execution_count": null,
   "id": "2e19db70",
   "metadata": {},
   "outputs": [],
   "source": [
    "tp = float(predictions.filter(\"prediction == 1.0 AND income_indexed == 1.0\").count())\n",
    "fp = float(predictions.filter(\"prediction == 1.0 AND income_indexed == 0.0\").count())\n",
    "tn = float(predictions.filter(\"prediction == 0.0 AND income_indexed == 0.0\").count())\n",
    "fn = float(predictions.filter(\"prediction == 0.0 AND income_indexed == 1.0\").count())\n",
    "Accuracy=(tp+tn)/(tp+fp+tn+fn)\n",
    "Precision= tp / (tp + fp)\n",
    "Recall=tp / (tp + fn)\n",
    "fmesure=2 * (Precision * Recall) / (Precision + Recall)\n",
    "\n",
    "metrics = spark.createDataFrame([\n",
    " (\"TP\", tp),\n",
    " (\"FP\", fp),\n",
    " (\"TN\", tn),\n",
    " (\"FN\", fn),\n",
    " (\"Accuracy\",Accuracy),\n",
    " (\"Precision\", Precision),\n",
    " (\"Recall\", Recall), \n",
    " (\"f-mesure\",fmesure)],[\"metric\", \"value\"])\n",
    "metrics.show()"
   ]
  },
  {
   "cell_type": "markdown",
   "id": "84d67f1f",
   "metadata": {},
   "source": [
    "# Amelioration et tuning"
   ]
  },
  {
   "cell_type": "code",
   "execution_count": null,
   "id": "4700c21b",
   "metadata": {},
   "outputs": [],
   "source": [
    "gbt= GBTClassifier(featuresCol=\"features\", labelCol=\"label\")\n",
    "piple=Pipeline(stages=[stringIndexerIncome,stringIndexer,oneHotIndexer,vectAssemble])\n",
    "data = piple.fit(AdultCensusIncome).transform(AdultCensusIncome)\n",
    "data=data.select('features', col('income_indexed').alias('label'))\n",
    "(trainingData, testData) = data.randomSplit([0.7, 0.3])"
   ]
  },
  {
   "cell_type": "code",
   "execution_count": null,
   "id": "504a34ed",
   "metadata": {},
   "outputs": [],
   "source": [
    "grid=ParamGridBuilder()\\\n",
    "                .addGrid(gbt.maxDepth, [d for d in range(6,10,2)])\\\n",
    "                .addGrid(gbt.maxBins, [d for d in range(30,36,3)])\\\n",
    "                .addGrid(gbt.maxIter, [d for d in range(20,60,20)]).build()"
   ]
  },
  {
   "cell_type": "code",
   "execution_count": null,
   "id": "0fa1463a",
   "metadata": {},
   "outputs": [],
   "source": [
    "crossval = CrossValidator(estimator=gbt,\n",
    "                          estimatorParamMaps=grid,\n",
    "                          evaluator=BinaryClassificationEvaluator(),\n",
    "                          numFolds=3)\n",
    "\n",
    "cvModel = crossval.fit(trainingData)"
   ]
  },
  {
   "cell_type": "code",
   "execution_count": null,
   "id": "1dd4799b",
   "metadata": {},
   "outputs": [],
   "source": [
    "predictions = cvModel.transform(testData)"
   ]
  },
  {
   "cell_type": "code",
   "execution_count": null,
   "id": "c3076f51",
   "metadata": {},
   "outputs": [],
   "source": [
    "evaluator=BinaryClassificationEvaluator(labelCol='label')\n",
    "print(evaluator.evaluate(predictions))"
   ]
  },
  {
   "cell_type": "code",
   "execution_count": null,
   "id": "1ed3333a",
   "metadata": {},
   "outputs": [],
   "source": [
    "tp = float(predictions.filter(\"prediction == 1.0 AND income_indexed == 1.0\").count())\n",
    "fp = float(predictions.filter(\"prediction == 1.0 AND income_indexed == 0.0\").count())\n",
    "tn = float(predictions.filter(\"prediction == 0.0 AND income_indexed == 0.0\").count())\n",
    "fn = float(predictions.filter(\"prediction == 0.0 AND income_indexed == 1.0\").count())\n",
    "Accuracy=(tp+tn)/(tp+fp+tn+fn)\n",
    "Precision= tp / (tp + fp)\n",
    "Recall=tp / (tp + fn)\n",
    "fmesure=2 * (Precision * Recall) / (Precision + Recall)\n",
    "\n",
    "metrics = spark.createDataFrame([\n",
    " (\"TP\", tp),\n",
    " (\"FP\", fp),\n",
    " (\"TN\", tn),\n",
    " (\"FN\", fn),\n",
    " (\"Accuracy\",Accuracy),\n",
    " (\"Precision\", Precision),\n",
    " (\"Recall\", Recall), \n",
    " (\"f-mesure\",fmesure)],[\"metric\", \"value\"])\n",
    "metrics.show()"
   ]
  },
  {
   "cell_type": "markdown",
   "id": "03df7a75",
   "metadata": {},
   "source": [
    "# with Standardization"
   ]
  },
  {
   "cell_type": "code",
   "execution_count": null,
   "id": "cb8d2125",
   "metadata": {},
   "outputs": [],
   "source": [
    "scaler = StandardScaler(inputCol='features', outputCol='features_standard',withStd=True, withMean=True)\n",
    "\n",
    "\n",
    "(trainingData, testData) = AdultCensusIncome.randomSplit([0.7, 0.3])\n",
    "gbt= GBTClassifier(featuresCol='features_standard', labelCol=\"income_indexed\")\n",
    "piple=Pipeline(stages=[stringIndexerIncome,stringIndexer,oneHotIndexer,vectAssemble,scaler,gbt])\n",
    "model = piple.fit(trainingData)\n",
    "predictions = model.transform(testData)"
   ]
  },
  {
   "cell_type": "code",
   "execution_count": null,
   "id": "e2289731",
   "metadata": {},
   "outputs": [],
   "source": [
    "evaluator=BinaryClassificationEvaluator(labelCol=\"income_indexed\")\n",
    "print(evaluator.evaluate(predictions))"
   ]
  },
  {
   "cell_type": "code",
   "execution_count": null,
   "id": "d13a8a2d",
   "metadata": {},
   "outputs": [],
   "source": [
    "tp = float(predictions.filter(\"prediction == 1.0 AND income_indexed == 1.0\").count())\n",
    "fp = float(predictions.filter(\"prediction == 1.0 AND income_indexed == 0.0\").count())\n",
    "tn = float(predictions.filter(\"prediction == 0.0 AND income_indexed == 0.0\").count())\n",
    "fn = float(predictions.filter(\"prediction == 0.0 AND income_indexed == 1.0\").count())\n",
    "Accuracy=(tp+tn)/(tp+fp+tn+fn)\n",
    "Precision= tp / (tp + fp)\n",
    "Recall=tp / (tp + fn)\n",
    "fmesure=2 * (Precision * Recall) / (Precision + Recall)\n",
    "\n",
    "metrics = spark.createDataFrame([\n",
    " (\"TP\", tp),\n",
    " (\"FP\", fp),\n",
    " (\"TN\", tn),\n",
    " (\"FN\", fn),\n",
    " (\"Accuracy\",Accuracy),\n",
    " (\"Precision\", Precision),\n",
    " (\"Recall\", Recall), \n",
    " (\"f-mesure\",fmesure)],[\"metric\", \"value\"])\n",
    "metrics.show()"
   ]
  },
  {
   "cell_type": "markdown",
   "id": "62082e96",
   "metadata": {},
   "source": [
    "# Oversampling"
   ]
  },
  {
   "cell_type": "code",
   "execution_count": 9,
   "id": "ddcbd107",
   "metadata": {},
   "outputs": [
    {
     "name": "stdout",
     "output_type": "stream",
     "text": [
      "+------+\n",
      "|income|\n",
      "+------+\n",
      "| <=50K|\n",
      "| <=50K|\n",
      "| <=50K|\n",
      "| <=50K|\n",
      "| <=50K|\n",
      "| <=50K|\n",
      "| <=50K|\n",
      "|  >50K|\n",
      "|  >50K|\n",
      "|  >50K|\n",
      "|  >50K|\n",
      "|  >50K|\n",
      "| <=50K|\n",
      "| <=50K|\n",
      "| <=50K|\n",
      "| <=50K|\n",
      "| <=50K|\n",
      "| <=50K|\n",
      "|  >50K|\n",
      "|  >50K|\n",
      "+------+\n",
      "only showing top 20 rows\n",
      "\n"
     ]
    }
   ],
   "source": [
    "AdultCensusIncome.select('income').show()"
   ]
  }
 ],
 "metadata": {
  "kernelspec": {
   "display_name": "Python 3",
   "language": "python",
   "name": "python3"
  },
  "language_info": {
   "codemirror_mode": {
    "name": "ipython",
    "version": 3
   },
   "file_extension": ".py",
   "mimetype": "text/x-python",
   "name": "python",
   "nbconvert_exporter": "python",
   "pygments_lexer": "ipython3",
   "version": "3.8.8"
  }
 },
 "nbformat": 4,
 "nbformat_minor": 5
}
